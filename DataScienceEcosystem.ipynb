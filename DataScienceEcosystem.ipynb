{
 "cells": [
  {
   "cell_type": "markdown",
   "id": "3aff24d9",
   "metadata": {},
   "source": [
    "# Data Science Tools and Ecosystem"
   ]
  },
  {
   "cell_type": "markdown",
   "id": "9c9a596c",
   "metadata": {},
   "source": [
    "In this notebook, Data Sciences Tools and Ecosystem are summarized."
   ]
  },
  {
   "cell_type": "markdown",
   "id": "45913371",
   "metadata": {},
   "source": [
    "**Objective**\n",
    "- Create Markdown cells\n",
    "- List populare Tools used by data scientists\n",
    "- List common data sciences libraries\n",
    "- Create code cells to multiply and add numbers"
   ]
  },
  {
   "cell_type": "markdown",
   "id": "e77d71d5",
   "metadata": {},
   "source": [
    "Some popular languages that Data Scientist use are:\n",
    "1. Python\n",
    "2. R\n",
    "3. SQL"
   ]
  },
  {
   "cell_type": "markdown",
   "id": "beb503c3",
   "metadata": {},
   "source": [
    "Some of the commonly used libraries used by Data Scientist include:\n",
    "\n",
    "1. Pandas\n",
    "2. Matplolib\n",
    "3. NumPy"
   ]
  },
  {
   "cell_type": "markdown",
   "id": "23d15059",
   "metadata": {},
   "source": [
    " |Data Science Tools|\n",
    " |------------------|\n",
    " |Jupyter Notebook|\n",
    " |Jupyter Lab|\n",
    " |R Studio|\n",
    " |Spyder|\n",
    " |Appache Zeppelin|"
   ]
  },
  {
   "cell_type": "markdown",
   "id": "ccc8ed53",
   "metadata": {},
   "source": [
    "### Below are a few examples of evaluating arithmetic expressions in Python"
   ]
  },
  {
   "cell_type": "code",
   "execution_count": 6,
   "id": "a3dd6693",
   "metadata": {},
   "outputs": [
    {
     "data": {
      "text/plain": [
       "17"
      ]
     },
     "execution_count": 6,
     "metadata": {},
     "output_type": "execute_result"
    }
   ],
   "source": [
    "# This a simple arithmetic expression to mutiply then add integers\n",
    "(3*4)+5"
   ]
  },
  {
   "cell_type": "code",
   "execution_count": 7,
   "id": "5ae6a249",
   "metadata": {},
   "outputs": [
    {
     "data": {
      "text/plain": [
       "3.3333333333333335"
      ]
     },
     "execution_count": 7,
     "metadata": {},
     "output_type": "execute_result"
    }
   ],
   "source": [
    "# This will convert 200 minutes to hours by diving by 60\n",
    "200/60"
   ]
  },
  {
   "cell_type": "markdown",
   "id": "4e09240e",
   "metadata": {},
   "source": [
    "## Author\n",
    "Jean-Philippe Fleury"
   ]
  },
  {
   "cell_type": "code",
   "execution_count": null,
   "id": "1df64659",
   "metadata": {},
   "outputs": [],
   "source": []
  }
 ],
 "metadata": {
  "kernelspec": {
   "display_name": "Python 3 (ipykernel)",
   "language": "python",
   "name": "python3"
  },
  "language_info": {
   "codemirror_mode": {
    "name": "ipython",
    "version": 3
   },
   "file_extension": ".py",
   "mimetype": "text/x-python",
   "name": "python",
   "nbconvert_exporter": "python",
   "pygments_lexer": "ipython3",
   "version": "3.11.2"
  }
 },
 "nbformat": 4,
 "nbformat_minor": 5
}
